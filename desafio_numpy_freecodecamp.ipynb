{
  "nbformat": 4,
  "nbformat_minor": 0,
  "metadata": {
    "colab": {
      "name": "desafio_numpy_freecodecamp.ipynb",
      "provenance": [],
      "authorship_tag": "ABX9TyMCkRy5kHINwgmmXMaSQjnn",
      "include_colab_link": true
    },
    "kernelspec": {
      "name": "python3",
      "display_name": "Python 3"
    },
    "language_info": {
      "name": "python"
    }
  },
  "cells": [
    {
      "cell_type": "markdown",
      "metadata": {
        "id": "view-in-github",
        "colab_type": "text"
      },
      "source": [
        "<a href=\"https://colab.research.google.com/github/francisconetodata/portfolio_python/blob/main/desafio_numpy_freecodecamp.ipynb\" target=\"_parent\"><img src=\"https://colab.research.google.com/assets/colab-badge.svg\" alt=\"Open In Colab\"/></a>"
      ]
    },
    {
      "cell_type": "markdown",
      "metadata": {
        "id": "a5eeAEfMpfby"
      },
      "source": [
        "# Calculadora de média, variância e desvio padrão\n"
      ]
    },
    {
      "cell_type": "code",
      "metadata": {
        "id": "xnRa-mLzpcd7"
      },
      "source": [
        "import numpy as np"
      ],
      "execution_count": 3,
      "outputs": []
    },
    {
      "cell_type": "code",
      "metadata": {
        "colab": {
          "base_uri": "https://localhost:8080/"
        },
        "id": "mXzBt6bUplLX",
        "outputId": "3930bf02-c273-465e-fd50-2e8e7bb9d893"
      },
      "source": [
        "a = np.array([[0, 1, 2],\n",
        "             [5,8,9],\n",
        "             [77,8,-9]])\n",
        "a"
      ],
      "execution_count": 9,
      "outputs": [
        {
          "output_type": "execute_result",
          "data": {
            "text/plain": [
              "array([[ 0,  1,  2],\n",
              "       [ 5,  8,  9],\n",
              "       [77,  8, -9]])"
            ]
          },
          "metadata": {},
          "execution_count": 9
        }
      ]
    },
    {
      "cell_type": "code",
      "metadata": {
        "colab": {
          "base_uri": "https://localhost:8080/"
        },
        "id": "11h64_c_qG56",
        "outputId": "96a97892-a5dd-4dd7-a2ad-69891c2b0227"
      },
      "source": [
        "# Cálculo da média das linhas\n",
        "a.mean(1)"
      ],
      "execution_count": 13,
      "outputs": [
        {
          "output_type": "execute_result",
          "data": {
            "text/plain": [
              "array([27.33333333,  5.66666667,  0.66666667])"
            ]
          },
          "metadata": {},
          "execution_count": 13
        }
      ]
    },
    {
      "cell_type": "code",
      "metadata": {
        "colab": {
          "base_uri": "https://localhost:8080/"
        },
        "id": "Uef2miyzqXsO",
        "outputId": "7668a0e7-c355-4a33-e55c-fc520c7ddb99"
      },
      "source": [
        "# Cálculo da variância das linhas\n",
        "a.var(1)"
      ],
      "execution_count": 14,
      "outputs": [
        {
          "output_type": "execute_result",
          "data": {
            "text/plain": [
              "array([6.66666667e-01, 2.88888889e+00, 1.38288889e+03])"
            ]
          },
          "metadata": {},
          "execution_count": 14
        }
      ]
    },
    {
      "cell_type": "code",
      "metadata": {
        "colab": {
          "base_uri": "https://localhost:8080/"
        },
        "id": "So1VvBWOqdA3",
        "outputId": "b654da5e-0e4a-48a3-be0f-904b6523d02d"
      },
      "source": [
        "# Cálculo do desvio-padrão das linhas\n",
        "a.std(1)"
      ],
      "execution_count": 15,
      "outputs": [
        {
          "output_type": "execute_result",
          "data": {
            "text/plain": [
              "array([ 0.81649658,  1.69967317, 37.18721405])"
            ]
          },
          "metadata": {},
          "execution_count": 15
        }
      ]
    }
  ]
}