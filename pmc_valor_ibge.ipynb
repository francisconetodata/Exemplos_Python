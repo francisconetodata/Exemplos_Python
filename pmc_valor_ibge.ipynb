{
  "nbformat": 4,
  "nbformat_minor": 0,
  "metadata": {
    "colab": {
      "name": "pmc_valor_ibge.ipynb",
      "provenance": [],
      "include_colab_link": true
    },
    "kernelspec": {
      "name": "python3",
      "display_name": "Python 3"
    },
    "language_info": {
      "name": "python"
    }
  },
  "cells": [
    {
      "cell_type": "markdown",
      "metadata": {
        "id": "view-in-github",
        "colab_type": "text"
      },
      "source": [
        "<a href=\"https://colab.research.google.com/github/francisconetodata/portfolio_python/blob/main/pmc_valor_ibge.ipynb\" target=\"_parent\"><img src=\"https://colab.research.google.com/assets/colab-badge.svg\" alt=\"Open In Colab\"/></a>"
      ]
    },
    {
      "cell_type": "markdown",
      "metadata": {
        "id": "c4kps6n9QMpu"
      },
      "source": [
        "# Desafio - Análise Macro"
      ]
    },
    {
      "cell_type": "markdown",
      "metadata": {
        "id": "lCr1gQhdbQ7s"
      },
      "source": [
        "Autor: Francisco de Assis Pereira Neto\n",
        "\n",
        "Data: 16/09/2021"
      ]
    },
    {
      "cell_type": "markdown",
      "metadata": {
        "id": "z63x15vMQRfV"
      },
      "source": [
        "## Passo 1: Algortimo de imporação dos dados automatizado"
      ]
    },
    {
      "cell_type": "markdown",
      "metadata": {
        "id": "Fif85lPCaoR9"
      },
      "source": [
        "Pacotes necessários:\n",
        "\n",
        "\n",
        "*   urllib3 - Necessário para realizar o request com o site do IBGE. O link foi coletado no site do IBGE.\n",
        "*   json - Necessário para manupular extrair o arquivo json com os dados que serão importados;\n",
        "*   Os demais pacotes manipulam dados e fazem visualizações, principalmente, datas que serão fundamentais nessa situação.\n",
        "\n",
        "\n",
        "\n"
      ]
    },
    {
      "cell_type": "code",
      "metadata": {
        "id": "Mnpkdx5tFieC"
      },
      "source": [
        "import urllib3\n",
        "import json\n",
        "import matplotlib.pyplot as plt\n",
        "import numpy\n",
        "from datetime import date"
      ],
      "execution_count": 58,
      "outputs": []
    },
    {
      "cell_type": "code",
      "metadata": {
        "colab": {
          "base_uri": "https://localhost:8080/"
        },
        "id": "Mrpa8-qTisHt",
        "outputId": "b8e3e03c-5cad-4e9e-8f72-38a4339eb69d"
      },
      "source": [
        "# Ano, mês e dia : Hoje!\n",
        "data_atual = date.today()\n",
        "atual = data_atual.strftime('%Y%m')\n",
        "atual_s = int(atual)\n",
        "data_atual"
      ],
      "execution_count": 59,
      "outputs": [
        {
          "output_type": "execute_result",
          "data": {
            "text/plain": [
              "datetime.date(2021, 9, 16)"
            ]
          },
          "metadata": {},
          "execution_count": 59
        }
      ]
    },
    {
      "cell_type": "code",
      "metadata": {
        "id": "24vSMMuXKVUX"
      },
      "source": [
        "# Fragmentos e junção do url que fará download dos dados no período de análise\n",
        "# O while atualiza o url de modo a buscar a última data.\n",
        "url_1 = 'https://servicodados.ibge.gov.br/api/v3/agregados/3416/periodos/200001'\n",
        "verificador = url_1[-6:]\n",
        "verificador = int(verificador)\n",
        "url_2 = ''\n",
        "mes = 1\n",
        "ano = 2000\n",
        "while (verificador<atual_s):\n",
        "  if (mes==13):\n",
        "    mes = 1\n",
        "    ano = ano + 1\n",
        "    verificador = str(ano)+ '0' + str(mes)\n",
        "  url_2 = url_2 + \"|\" + str(verificador)\n",
        "  verificador = url_2[-6:]\n",
        "  verificador = int(verificador) + 1\n",
        "  mes = mes +1 \n",
        "url_3 = '/variaveis/564?localidades=N1[all]&classificacao=11046[40311]'\n",
        "url_complete = url_1+url_2+url_3\n",
        "# Formação do url completo que busca de janeiro de 2000 ao último mês que saiu.\n",
        "# url_complete"
      ],
      "execution_count": 60,
      "outputs": []
    },
    {
      "cell_type": "code",
      "metadata": {
        "colab": {
          "base_uri": "https://localhost:8080/"
        },
        "id": "b52sw7kKGWJ6",
        "outputId": "4f173c9d-1f56-46f0-f8b5-2d3826feded0"
      },
      "source": [
        "# Faz o request com o link e busca a informação:\n",
        "http = urllib3.PoolManager() \n",
        "urlPortalApiIBGE = url_complete\n",
        "response = http.request('GET',urlPortalApiIBGE)\n",
        "print(\"Response Status:\", response.status)"
      ],
      "execution_count": 61,
      "outputs": [
        {
          "output_type": "stream",
          "name": "stderr",
          "text": [
            "/usr/local/lib/python3.7/dist-packages/urllib3/connectionpool.py:847: InsecureRequestWarning:\n",
            "\n",
            "Unverified HTTPS request is being made. Adding certificate verification is strongly advised. See: https://urllib3.readthedocs.io/en/latest/advanced-usage.html#ssl-warnings\n",
            "\n"
          ]
        },
        {
          "output_type": "stream",
          "name": "stdout",
          "text": [
            "Response Status: 200\n"
          ]
        }
      ]
    },
    {
      "cell_type": "code",
      "metadata": {
        "id": "-wacXtJzFoho"
      },
      "source": [
        "# Decodificação das informações em UTF-8:\n",
        "data_response = response.data.decode('utf-8')\n",
        "# data_response"
      ],
      "execution_count": 62,
      "outputs": []
    },
    {
      "cell_type": "code",
      "metadata": {
        "id": "MYmnflppHw4u"
      },
      "source": [
        "# Carregando arquivo json:\n",
        "data_json = json.loads(data_response)\n",
        "# data_json "
      ],
      "execution_count": 63,
      "outputs": []
    },
    {
      "cell_type": "code",
      "metadata": {
        "id": "mS31cWoVH_xH"
      },
      "source": [
        "# Extraindo a série temporal PCM - IBGE nacional\n",
        "dados = data_json[0]\n",
        "dados = dados['resultados']\n",
        "dados = dados[0]\n",
        "dados = dados['series']\n",
        "dados = dados[0]\n",
        "dados = dados['serie']\n",
        "# print(dados)"
      ],
      "execution_count": 64,
      "outputs": []
    },
    {
      "cell_type": "markdown",
      "metadata": {
        "id": "nv9p_dyZQYIl"
      },
      "source": [
        "## Criação do dataframe com pandas"
      ]
    },
    {
      "cell_type": "code",
      "metadata": {
        "id": "NK6k_EmKOXk3"
      },
      "source": [
        "# Criação do dataframe resultante:\n",
        "import pandas as pd\n",
        "pmc = pd.DataFrame.from_dict(dados, orient='index').rename(columns={0:'pmc_valor'})\n",
        "pmc.pmc_valor = pmc.pmc_valor.astype(float)\n",
        "# pmc"
      ],
      "execution_count": 65,
      "outputs": []
    },
    {
      "cell_type": "code",
      "metadata": {
        "colab": {
          "base_uri": "https://localhost:8080/",
          "height": 297
        },
        "id": "-ErONQ_TPDVY",
        "outputId": "51e8b55f-27c6-4d44-fa6e-dfe99a611066"
      },
      "source": [
        "# Sumário dos valores da série temporal do PMC Nacional\n",
        "pmc.describe()"
      ],
      "execution_count": 66,
      "outputs": [
        {
          "output_type": "execute_result",
          "data": {
            "text/html": [
              "<div>\n",
              "<style scoped>\n",
              "    .dataframe tbody tr th:only-of-type {\n",
              "        vertical-align: middle;\n",
              "    }\n",
              "\n",
              "    .dataframe tbody tr th {\n",
              "        vertical-align: top;\n",
              "    }\n",
              "\n",
              "    .dataframe thead th {\n",
              "        text-align: right;\n",
              "    }\n",
              "</style>\n",
              "<table border=\"1\" class=\"dataframe\">\n",
              "  <thead>\n",
              "    <tr style=\"text-align: right;\">\n",
              "      <th></th>\n",
              "      <th>pmc_valor</th>\n",
              "    </tr>\n",
              "  </thead>\n",
              "  <tbody>\n",
              "    <tr>\n",
              "      <th>count</th>\n",
              "      <td>259.000000</td>\n",
              "    </tr>\n",
              "    <tr>\n",
              "      <th>mean</th>\n",
              "      <td>76.139382</td>\n",
              "    </tr>\n",
              "    <tr>\n",
              "      <th>std</th>\n",
              "      <td>21.216095</td>\n",
              "    </tr>\n",
              "    <tr>\n",
              "      <th>min</th>\n",
              "      <td>42.800000</td>\n",
              "    </tr>\n",
              "    <tr>\n",
              "      <th>25%</th>\n",
              "      <td>53.650000</td>\n",
              "    </tr>\n",
              "    <tr>\n",
              "      <th>50%</th>\n",
              "      <td>81.700000</td>\n",
              "    </tr>\n",
              "    <tr>\n",
              "      <th>75%</th>\n",
              "      <td>91.800000</td>\n",
              "    </tr>\n",
              "    <tr>\n",
              "      <th>max</th>\n",
              "      <td>130.300000</td>\n",
              "    </tr>\n",
              "  </tbody>\n",
              "</table>\n",
              "</div>"
            ],
            "text/plain": [
              "        pmc_valor\n",
              "count  259.000000\n",
              "mean    76.139382\n",
              "std     21.216095\n",
              "min     42.800000\n",
              "25%     53.650000\n",
              "50%     81.700000\n",
              "75%     91.800000\n",
              "max    130.300000"
            ]
          },
          "metadata": {},
          "execution_count": 66
        }
      ]
    },
    {
      "cell_type": "code",
      "metadata": {
        "id": "HOExNuTp2h4_"
      },
      "source": [
        "# importar pacotes e setar configurações de plots\n",
        "from statsmodels.tsa.seasonal import seasonal_decompose\n",
        "import matplotlib.pyplot as plt\n",
        "import seaborn as sns"
      ],
      "execution_count": 67,
      "outputs": []
    },
    {
      "cell_type": "markdown",
      "metadata": {
        "id": "L6mMfhPiduFw"
      },
      "source": [
        "### Manipulação das datas, colocando como índice do dataframe."
      ]
    },
    {
      "cell_type": "code",
      "metadata": {
        "colab": {
          "base_uri": "https://localhost:8080/",
          "height": 35
        },
        "id": "rbLoCGQw4pxw",
        "outputId": "607f63d9-3f1d-422f-c6c3-dc18544a167d"
      },
      "source": [
        "data_final = str(pmc.index[-1])\n",
        "data_final"
      ],
      "execution_count": 68,
      "outputs": [
        {
          "output_type": "execute_result",
          "data": {
            "application/vnd.google.colaboratory.intrinsic+json": {
              "type": "string"
            },
            "text/plain": [
              "'202107'"
            ]
          },
          "metadata": {},
          "execution_count": 68
        }
      ]
    },
    {
      "cell_type": "code",
      "metadata": {
        "colab": {
          "base_uri": "https://localhost:8080/",
          "height": 35
        },
        "id": "iYmPvGBx9vIN",
        "outputId": "4027a64a-f373-47e3-9089-aab23b5f4ca7"
      },
      "source": [
        "data_inicial = str(pmc.index[0])\n",
        "data_inicial"
      ],
      "execution_count": 69,
      "outputs": [
        {
          "output_type": "execute_result",
          "data": {
            "application/vnd.google.colaboratory.intrinsic+json": {
              "type": "string"
            },
            "text/plain": [
              "'200001'"
            ]
          },
          "metadata": {},
          "execution_count": 69
        }
      ]
    },
    {
      "cell_type": "code",
      "metadata": {
        "colab": {
          "base_uri": "https://localhost:8080/",
          "height": 35
        },
        "id": "_2FzcCFT3dBu",
        "outputId": "54170491-ad1b-4678-9117-088482de4d77"
      },
      "source": [
        "date_1 = '{}--{}'.format(str(data_inicial[4:6]),str(data_inicial[0:4]))\n",
        "date_2 = '{}--{}'.format(str(data_final[4:6]),str(data_final[0:4]))\n",
        "date_2"
      ],
      "execution_count": 70,
      "outputs": [
        {
          "output_type": "execute_result",
          "data": {
            "application/vnd.google.colaboratory.intrinsic+json": {
              "type": "string"
            },
            "text/plain": [
              "'07--2021'"
            ]
          },
          "metadata": {},
          "execution_count": 70
        }
      ]
    },
    {
      "cell_type": "code",
      "metadata": {
        "colab": {
          "base_uri": "https://localhost:8080/"
        },
        "id": "2kBHC74G4TAo",
        "outputId": "bb82f8c4-0fe7-4107-8a0b-98262afddf86"
      },
      "source": [
        "pmc.shape[0]"
      ],
      "execution_count": 71,
      "outputs": [
        {
          "output_type": "execute_result",
          "data": {
            "text/plain": [
              "259"
            ]
          },
          "metadata": {},
          "execution_count": 71
        }
      ]
    },
    {
      "cell_type": "code",
      "metadata": {
        "colab": {
          "base_uri": "https://localhost:8080/"
        },
        "id": "jyXz_BD23tJV",
        "outputId": "bd9f01aa-45da-43be-9a32-6fc8976df197"
      },
      "source": [
        "pd.date_range(date_1, periods=pmc.shape[0], freq='M')"
      ],
      "execution_count": 72,
      "outputs": [
        {
          "output_type": "execute_result",
          "data": {
            "text/plain": [
              "DatetimeIndex(['2000-01-31', '2000-02-29', '2000-03-31', '2000-04-30',\n",
              "               '2000-05-31', '2000-06-30', '2000-07-31', '2000-08-31',\n",
              "               '2000-09-30', '2000-10-31',\n",
              "               ...\n",
              "               '2020-10-31', '2020-11-30', '2020-12-31', '2021-01-31',\n",
              "               '2021-02-28', '2021-03-31', '2021-04-30', '2021-05-31',\n",
              "               '2021-06-30', '2021-07-31'],\n",
              "              dtype='datetime64[ns]', length=259, freq='M')"
            ]
          },
          "metadata": {},
          "execution_count": 72
        }
      ]
    },
    {
      "cell_type": "code",
      "metadata": {
        "id": "eIX3evYY8Oye"
      },
      "source": [
        "pmc.index = pd.date_range(date_1, periods=pmc.shape[0], freq='M')\n",
        "indices = pmc.index\n",
        "# indices"
      ],
      "execution_count": 73,
      "outputs": []
    },
    {
      "cell_type": "code",
      "metadata": {
        "id": "NMbRpIz9AAIp"
      },
      "source": [
        "# Comando para salvar o arquivo em csv\n",
        "# pmc.to_csv('pmc.csv')"
      ],
      "execution_count": 74,
      "outputs": []
    },
    {
      "cell_type": "code",
      "metadata": {
        "colab": {
          "base_uri": "https://localhost:8080/",
          "height": 427
        },
        "id": "E4Ae-3Os2kVv",
        "outputId": "7e42a325-d8e6-41cc-a9f3-9a2857455a1e"
      },
      "source": [
        "plt.figure(figsize=(15, 6))\n",
        "plt.title(\"PMC mensal - Brasil\")\n",
        "plt.plot(pmc,label=\"PMC - Série temporal\",color=\"blue\")\n",
        "plt.xlabel(\"data\")\n",
        "plt.ylabel(\"PMC\")\n",
        "plt.legend()\n",
        "# Para Salvar a imagem\n",
        "# plt.savefig('pmcserie.png', format='png')"
      ],
      "execution_count": 75,
      "outputs": [
        {
          "output_type": "execute_result",
          "data": {
            "text/plain": [
              "<matplotlib.legend.Legend at 0x7f53521314d0>"
            ]
          },
          "metadata": {},
          "execution_count": 75
        },
        {
          "output_type": "display_data",
          "data": {
            "image/png": "[encoded data removed]",
            "text/plain": [
              "<Figure size 1080x432 with 1 Axes>"
            ]
          },
          "metadata": {}
        }
      ]
    },
    {
      "cell_type": "markdown",
      "metadata": {
        "id": "VMCdTforfvaS"
      },
      "source": [
        "Ao observar e analisar visualmente o gráfico da série temporal, é possível observar uma padrão de sazonalidade e de tendência de alta e depois de estabilização. De certo modo, seria interessante aplicar um modelo ARIMA para ajustar um modelo mais simples em relação a modelos mais robustos, como as regressões via machine learning.\n",
        "\n",
        "Morettin (2018) relata que o modelo ARIMA consiste na análise de modelos paramêtricos. Essa metodologia consiste no ajuste de modelos autoregressivos atrlados ao cálculo de médias móveis e é apelidado de ARIMA (p,d,q).\n",
        "\n",
        "Existe uma sequência para encontrar o melhor modelo ARIMA. De acordo com Morettin (2018), o ciclo é iterativo e formado pelas seguintes etapas:\n",
        "\n",
        "\n",
        "1.   Escolhe-se o modelo ARIMA e, em seguida, é feita uma análise das autocorrelações, autocorrelações parciais e outros;\n",
        "2.   Estima-se os parâmetros (p,d,q) do modelo;\n",
        "3.   Por fim, faz-se análise dos resíduos, para ver se eventualmente é interessante para uma previsão.\n",
        "\n",
        "Morettin (2018) mostra também a existência do modelo SARIMA. Esse modelo leva em conta eventos sazonais, como é possível observar na séries do PMC Nacional. No python, o pacote que faz a verificação do modelo, calculando o AIC, que consiste no critério de informação de Akaike, que minimiza o valor de AIC.\n",
        "\n"
      ]
    },
    {
      "cell_type": "code",
      "metadata": {
        "colab": {
          "base_uri": "https://localhost:8080/",
          "height": 352
        },
        "id": "Jo47LCKp_MIk",
        "outputId": "cd341c1f-cc5b-46c8-bcd6-42c141b790cc"
      },
      "source": [
        "# Gráficos de autocorrelação e de autocorrelação parcial\n",
        "from statsmodels.graphics.tsaplots import plot_acf, plot_pacf\n",
        "from statsmodels.tsa.stattools import adfuller, kpss\n",
        "N_LAGS = 100\n",
        "SIGNIFICANCE_LEVEL = 0.05\n",
        "fig, ax = plt.subplots(2, 1)\n",
        "plot_acf(pmc.pmc_valor, ax=ax[0], lags=N_LAGS,alpha=SIGNIFICANCE_LEVEL)\n",
        "plot_pacf(pmc.pmc_valor, ax=ax[1], lags=N_LAGS,alpha=SIGNIFICANCE_LEVEL)\n",
        "plt.show()"
      ],
      "execution_count": 76,
      "outputs": [
        {
          "output_type": "stream",
          "name": "stderr",
          "text": [
            "/usr/local/lib/python3.7/dist-packages/statsmodels/regression/linear_model.py:1434: RuntimeWarning:\n",
            "\n",
            "invalid value encountered in sqrt\n",
            "\n"
          ]
        },
        {
          "output_type": "display_data",
          "data": {
            "image/png": "[encoded data removed]",
            "text/plain": [
              "<Figure size 432x288 with 2 Axes>"
            ]
          },
          "metadata": {}
        }
      ]
    },
    {
      "cell_type": "code",
      "metadata": {
        "colab": {
          "base_uri": "https://localhost:8080/",
          "height": 310
        },
        "id": "_07ZIFS1Ajps",
        "outputId": "32051879-fcd8-4f9d-f322-b908634e0cca"
      },
      "source": [
        "from statsmodels.tsa.seasonal import seasonal_decompose\n",
        "analysis = pmc\n",
        "decompose_result_mult = seasonal_decompose(analysis, model=\"multiplicative\")\n",
        "trend = decompose_result_mult.trend\n",
        "seasonal = decompose_result_mult.seasonal\n",
        "residual = decompose_result_mult.resid\n",
        "plt.figure(figsize=(15, 15))\n",
        "decompose_result_mult.plot()\n",
        "# Para salvar a imagem>\n",
        "# plt.savefig('decompose.png', format='png')\n",
        "plt.show()"
      ],
      "execution_count": 77,
      "outputs": [
        {
          "output_type": "display_data",
          "data": {
            "text/plain": [
              "<Figure size 1080x1080 with 0 Axes>"
            ]
          },
          "metadata": {}
        },
        {
          "output_type": "display_data",
          "data": {
            "image/png": "[encoded data removed]",
            "text/plain": [
              "<Figure size 432x288 with 4 Axes>"
            ]
          },
          "metadata": {}
        }
      ]
    },
    {
      "cell_type": "code",
      "metadata": {
        "colab": {
          "base_uri": "https://localhost:8080/"
        },
        "id": "9sX0yN9VqS75",
        "outputId": "8644f71b-5aba-4b3c-e9e8-323964ae3cf2"
      },
      "source": [
        "!pip install pmdarima"
      ],
      "execution_count": 78,
      "outputs": [
        {
          "output_type": "stream",
          "name": "stdout",
          "text": [
            "Requirement already satisfied: pmdarima in /usr/local/lib/python3.7/dist-packages (1.8.2)\n",
            "Requirement already satisfied: statsmodels!=0.12.0,>=0.11 in /usr/local/lib/python3.7/dist-packages (from pmdarima) (0.12.2)\n",
            "Requirement already satisfied: urllib3 in /usr/local/lib/python3.7/dist-packages (from pmdarima) (1.24.3)\n",
            "Requirement already satisfied: numpy~=1.19.0 in /usr/local/lib/python3.7/dist-packages (from pmdarima) (1.19.5)\n",
            "Requirement already satisfied: Cython!=0.29.18,>=0.29 in /usr/local/lib/python3.7/dist-packages (from pmdarima) (0.29.24)\n",
            "Requirement already satisfied: scikit-learn>=0.22 in /usr/local/lib/python3.7/dist-packages (from pmdarima) (0.22.2.post1)\n",
            "Requirement already satisfied: scipy>=1.3.2 in /usr/local/lib/python3.7/dist-packages (from pmdarima) (1.4.1)\n",
            "Requirement already satisfied: setuptools!=50.0.0,>=38.6.0 in /usr/local/lib/python3.7/dist-packages (from pmdarima) (57.4.0)\n",
            "Requirement already satisfied: pandas>=0.19 in /usr/local/lib/python3.7/dist-packages (from pmdarima) (1.1.5)\n",
            "Requirement already satisfied: joblib>=0.11 in /usr/local/lib/python3.7/dist-packages (from pmdarima) (1.0.1)\n",
            "Requirement already satisfied: pytz>=2017.2 in /usr/local/lib/python3.7/dist-packages (from pandas>=0.19->pmdarima) (2018.9)\n",
            "Requirement already satisfied: python-dateutil>=2.7.3 in /usr/local/lib/python3.7/dist-packages (from pandas>=0.19->pmdarima) (2.8.2)\n",
            "Requirement already satisfied: six>=1.5 in /usr/local/lib/python3.7/dist-packages (from python-dateutil>=2.7.3->pandas>=0.19->pmdarima) (1.15.0)\n",
            "Requirement already satisfied: patsy>=0.5 in /usr/local/lib/python3.7/dist-packages (from statsmodels!=0.12.0,>=0.11->pmdarima) (0.5.1)\n"
          ]
        }
      ]
    },
    {
      "cell_type": "code",
      "metadata": {
        "id": "LxIyf9Z-Bylu"
      },
      "source": [
        "\n",
        "# Importação das bibliotecas\n",
        "import pandas as pd\n",
        "import matplotlib.pylab as plt\n",
        "from statsmodels.tsa.arima_model import ARIMA\n",
        "from pmdarima.arima import auto_arima\n",
        "from datetime import datetime\n",
        "#registro de converters para uso do matplotlib\n",
        "from pandas.plotting import register_matplotlib_converters\n",
        "register_matplotlib_converters()"
      ],
      "execution_count": 79,
      "outputs": []
    },
    {
      "cell_type": "code",
      "metadata": {
        "colab": {
          "base_uri": "https://localhost:8080/"
        },
        "id": "K9KOAu73ER8C",
        "outputId": "7d8d4714-d01e-40c7-e4ee-0fc08898ac09"
      },
      "source": [
        "# Implementação do auto arima para descoberta automática dos parâmetros\n",
        "# A função trace = True faz o auto_arima mostrar a tabela de tentativas.\n",
        "modelo_auto = auto_arima(analysis['pmc_valor'], m = 12, seasonal = True, trace = True)\n",
        "# Mostra o processo iterativo de escolha do melhor valor:"
      ],
      "execution_count": 80,
      "outputs": [
        {
          "output_type": "stream",
          "name": "stdout",
          "text": [
            "Performing stepwise search to minimize aic\n",
            " ARIMA(2,0,2)(1,1,1)[12] intercept   : AIC=1143.711, Time=1.85 sec\n",
            " ARIMA(0,0,0)(0,1,0)[12] intercept   : AIC=1429.080, Time=0.04 sec\n",
            " ARIMA(1,0,0)(1,1,0)[12] intercept   : AIC=1166.105, Time=0.44 sec\n",
            " ARIMA(0,0,1)(0,1,1)[12] intercept   : AIC=1295.085, Time=0.47 sec\n",
            " ARIMA(0,0,0)(0,1,0)[12]             : AIC=1493.494, Time=0.04 sec\n",
            " ARIMA(2,0,2)(0,1,1)[12] intercept   : AIC=1141.714, Time=1.34 sec\n",
            " ARIMA(2,0,2)(0,1,0)[12] intercept   : AIC=1177.363, Time=0.47 sec\n",
            " ARIMA(2,0,2)(0,1,2)[12] intercept   : AIC=1143.711, Time=2.95 sec\n",
            " ARIMA(2,0,2)(1,1,0)[12] intercept   : AIC=1147.490, Time=1.29 sec\n",
            " ARIMA(2,0,2)(1,1,2)[12] intercept   : AIC=1145.696, Time=3.43 sec\n",
            " ARIMA(1,0,2)(0,1,1)[12] intercept   : AIC=1142.735, Time=1.11 sec\n",
            " ARIMA(2,0,1)(0,1,1)[12] intercept   : AIC=1142.333, Time=1.49 sec\n",
            " ARIMA(3,0,2)(0,1,1)[12] intercept   : AIC=1142.409, Time=2.61 sec\n",
            " ARIMA(2,0,3)(0,1,1)[12] intercept   : AIC=1143.226, Time=1.66 sec\n",
            " ARIMA(1,0,1)(0,1,1)[12] intercept   : AIC=1144.885, Time=0.68 sec\n",
            " ARIMA(1,0,3)(0,1,1)[12] intercept   : AIC=1144.733, Time=1.37 sec\n",
            " ARIMA(3,0,1)(0,1,1)[12] intercept   : AIC=1144.736, Time=1.34 sec\n",
            " ARIMA(3,0,3)(0,1,1)[12] intercept   : AIC=1143.517, Time=2.84 sec\n",
            " ARIMA(2,0,2)(0,1,1)[12]             : AIC=1141.905, Time=1.05 sec\n",
            "\n",
            "Best model:  ARIMA(2,0,2)(0,1,1)[12] intercept\n",
            "Total fit time: 26.520 seconds\n"
          ]
        }
      ]
    },
    {
      "cell_type": "code",
      "metadata": {
        "colab": {
          "base_uri": "https://localhost:8080/",
          "height": 507
        },
        "id": "wSa-X5uoqp-P",
        "outputId": "733fd733-d39d-44df-bdd4-aa9e833dc47d"
      },
      "source": [
        "# Sumário do melhor modelo arima:\n",
        "modelo_auto.summary()"
      ],
      "execution_count": 81,
      "outputs": [
        {
          "output_type": "execute_result",
          "data": {
            "text/html": [
              "<table class=\"simpletable\">\n",
              "<caption>SARIMAX Results</caption>\n",
              "<tr>\n",
              "  <th>Dep. Variable:</th>                   <td>y</td>                <th>  No. Observations:  </th>    <td>259</td>  \n",
              "</tr>\n",
              "<tr>\n",
              "  <th>Model:</th>           <td>SARIMAX(2, 0, 2)x(0, 1, [1], 12)</td> <th>  Log Likelihood     </th> <td>-563.857</td>\n",
              "</tr>\n",
              "<tr>\n",
              "  <th>Date:</th>                    <td>Thu, 16 Sep 2021</td>         <th>  AIC                </th> <td>1141.714</td>\n",
              "</tr>\n",
              "<tr>\n",
              "  <th>Time:</th>                        <td>10:18:39</td>             <th>  BIC                </th> <td>1166.279</td>\n",
              "</tr>\n",
              "<tr>\n",
              "  <th>Sample:</th>                          <td>0</td>                <th>  HQIC               </th> <td>1151.604</td>\n",
              "</tr>\n",
              "<tr>\n",
              "  <th></th>                              <td> - 259</td>              <th>                     </th>     <td> </td>   \n",
              "</tr>\n",
              "<tr>\n",
              "  <th>Covariance Type:</th>                <td>opg</td>               <th>                     </th>     <td> </td>   \n",
              "</tr>\n",
              "</table>\n",
              "<table class=\"simpletable\">\n",
              "<tr>\n",
              "      <td></td>         <th>coef</th>     <th>std err</th>      <th>z</th>      <th>P>|z|</th>  <th>[0.025</th>    <th>0.975]</th>  \n",
              "</tr>\n",
              "<tr>\n",
              "  <th>intercept</th> <td>    0.1438</td> <td>    0.105</td> <td>    1.366</td> <td> 0.172</td> <td>   -0.062</td> <td>    0.350</td>\n",
              "</tr>\n",
              "<tr>\n",
              "  <th>ar.L1</th>     <td>    0.2500</td> <td>    0.147</td> <td>    1.706</td> <td> 0.088</td> <td>   -0.037</td> <td>    0.537</td>\n",
              "</tr>\n",
              "<tr>\n",
              "  <th>ar.L2</th>     <td>    0.6910</td> <td>    0.139</td> <td>    4.965</td> <td> 0.000</td> <td>    0.418</td> <td>    0.964</td>\n",
              "</tr>\n",
              "<tr>\n",
              "  <th>ma.L1</th>     <td>    0.3978</td> <td>    0.141</td> <td>    2.818</td> <td> 0.005</td> <td>    0.121</td> <td>    0.674</td>\n",
              "</tr>\n",
              "<tr>\n",
              "  <th>ma.L2</th>     <td>   -0.3866</td> <td>    0.065</td> <td>   -5.906</td> <td> 0.000</td> <td>   -0.515</td> <td>   -0.258</td>\n",
              "</tr>\n",
              "<tr>\n",
              "  <th>ma.S.L12</th>  <td>   -0.4745</td> <td>    0.044</td> <td>  -10.742</td> <td> 0.000</td> <td>   -0.561</td> <td>   -0.388</td>\n",
              "</tr>\n",
              "<tr>\n",
              "  <th>sigma2</th>    <td>    5.5287</td> <td>    0.353</td> <td>   15.645</td> <td> 0.000</td> <td>    4.836</td> <td>    6.221</td>\n",
              "</tr>\n",
              "</table>\n",
              "<table class=\"simpletable\">\n",
              "<tr>\n",
              "  <th>Ljung-Box (L1) (Q):</th>     <td>0.05</td> <th>  Jarque-Bera (JB):  </th> <td>452.35</td>\n",
              "</tr>\n",
              "<tr>\n",
              "  <th>Prob(Q):</th>                <td>0.82</td> <th>  Prob(JB):          </th>  <td>0.00</td> \n",
              "</tr>\n",
              "<tr>\n",
              "  <th>Heteroskedasticity (H):</th> <td>5.50</td> <th>  Skew:              </th>  <td>-0.58</td>\n",
              "</tr>\n",
              "<tr>\n",
              "  <th>Prob(H) (two-sided):</th>    <td>0.00</td> <th>  Kurtosis:          </th>  <td>9.53</td> \n",
              "</tr>\n",
              "</table><br/><br/>Warnings:<br/>[1] Covariance matrix calculated using the outer product of gradients (complex-step)."
            ],
            "text/plain": [
              "<class 'statsmodels.iolib.summary.Summary'>\n",
              "\"\"\"\n",
              "                                      SARIMAX Results                                       \n",
              "============================================================================================\n",
              "Dep. Variable:                                    y   No. Observations:                  259\n",
              "Model:             SARIMAX(2, 0, 2)x(0, 1, [1], 12)   Log Likelihood                -563.857\n",
              "Date:                              Thu, 16 Sep 2021   AIC                           1141.714\n",
              "Time:                                      10:18:39   BIC                           1166.279\n",
              "Sample:                                           0   HQIC                          1151.604\n",
              "                                              - 259                                         \n",
              "Covariance Type:                                opg                                         \n",
              "==============================================================================\n",
              "                 coef    std err          z      P>|z|      [0.025      0.975]\n",
              "------------------------------------------------------------------------------\n",
              "intercept      0.1438      0.105      1.366      0.172      -0.062       0.350\n",
              "ar.L1          0.2500      0.147      1.706      0.088      -0.037       0.537\n",
              "ar.L2          0.6910      0.139      4.965      0.000       0.418       0.964\n",
              "ma.L1          0.3978      0.141      2.818      0.005       0.121       0.674\n",
              "ma.L2         -0.3866      0.065     -5.906      0.000      -0.515      -0.258\n",
              "ma.S.L12      -0.4745      0.044    -10.742      0.000      -0.561      -0.388\n",
              "sigma2         5.5287      0.353     15.645      0.000       4.836       6.221\n",
              "===================================================================================\n",
              "Ljung-Box (L1) (Q):                   0.05   Jarque-Bera (JB):               452.35\n",
              "Prob(Q):                              0.82   Prob(JB):                         0.00\n",
              "Heteroskedasticity (H):               5.50   Skew:                            -0.58\n",
              "Prob(H) (two-sided):                  0.00   Kurtosis:                         9.53\n",
              "===================================================================================\n",
              "\n",
              "Warnings:\n",
              "[1] Covariance matrix calculated using the outer product of gradients (complex-step).\n",
              "\"\"\""
            ]
          },
          "metadata": {},
          "execution_count": 81
        }
      ]
    },
    {
      "cell_type": "markdown",
      "metadata": {
        "id": "UslHD39FCnvq"
      },
      "source": [
        "O melhor modelo considerando a minimização do AIC é o SARIMA((2,0,2)(0,1,1)) com período 12. Lembrando que foi considerado no modelo o período da sazonalidade de 12 meses. Também, é possível observar mais estatísticas presentes no modelo. Bueno (2018) mostra que o teste Ljung-Box é voltado para determinar se as autocorrelações multivariadas são nulas, ou seja, mede a presença de correlação entre dados do mesmo mês em diversos anos. \n",
        "\n",
        "A estatística do Ljung-Box é 0.05, que é o mesmo do intervalo de confiança. Com isso, podemos considerar que o modelo corrigiu os efeitos de sazonalidade e, por consequência, não prejudica a análise dos resíduos."
      ]
    },
    {
      "cell_type": "code",
      "metadata": {
        "colab": {
          "base_uri": "https://localhost:8080/",
          "height": 793
        },
        "id": "nw-sOH5nFu9Z",
        "outputId": "355b71c9-a212-4b55-ee50-efde5427c5d2"
      },
      "source": [
        "from datetime import datetime, timedelta\n",
        "proximos_24 = modelo_auto.predict(n_periods = 24)\n",
        "# Visualização dos próximos 24 valores\n",
        "data_final_c = date.today()- timedelta(days=30)\n",
        "futuro = pd.DataFrame({'Valor Predito':proximos_24}, index=pd.date_range(data_final_c, periods=24, freq='M'))\n",
        "futuro"
      ],
      "execution_count": 82,
      "outputs": [
        {
          "output_type": "execute_result",
          "data": {
            "text/html": [
              "<div>\n",
              "<style scoped>\n",
              "    .dataframe tbody tr th:only-of-type {\n",
              "        vertical-align: middle;\n",
              "    }\n",
              "\n",
              "    .dataframe tbody tr th {\n",
              "        vertical-align: top;\n",
              "    }\n",
              "\n",
              "    .dataframe thead th {\n",
              "        text-align: right;\n",
              "    }\n",
              "</style>\n",
              "<table border=\"1\" class=\"dataframe\">\n",
              "  <thead>\n",
              "    <tr style=\"text-align: right;\">\n",
              "      <th></th>\n",
              "      <th>Valor Predito</th>\n",
              "    </tr>\n",
              "  </thead>\n",
              "  <tbody>\n",
              "    <tr>\n",
              "      <th>2021-08-31</th>\n",
              "      <td>105.828887</td>\n",
              "    </tr>\n",
              "    <tr>\n",
              "      <th>2021-09-30</th>\n",
              "      <td>102.012510</td>\n",
              "    </tr>\n",
              "    <tr>\n",
              "      <th>2021-10-31</th>\n",
              "      <td>107.750831</td>\n",
              "    </tr>\n",
              "    <tr>\n",
              "      <th>2021-11-30</th>\n",
              "      <td>113.084657</td>\n",
              "    </tr>\n",
              "    <tr>\n",
              "      <th>2021-12-31</th>\n",
              "      <td>131.127843</td>\n",
              "    </tr>\n",
              "    <tr>\n",
              "      <th>2022-01-31</th>\n",
              "      <td>100.647765</td>\n",
              "    </tr>\n",
              "    <tr>\n",
              "      <th>2022-02-28</th>\n",
              "      <td>93.932113</td>\n",
              "    </tr>\n",
              "    <tr>\n",
              "      <th>2022-03-31</th>\n",
              "      <td>98.025322</td>\n",
              "    </tr>\n",
              "    <tr>\n",
              "      <th>2022-04-30</th>\n",
              "      <td>93.849875</td>\n",
              "    </tr>\n",
              "    <tr>\n",
              "      <th>2022-05-31</th>\n",
              "      <td>101.524803</td>\n",
              "    </tr>\n",
              "    <tr>\n",
              "      <th>2022-06-30</th>\n",
              "      <td>99.995307</td>\n",
              "    </tr>\n",
              "    <tr>\n",
              "      <th>2022-07-31</th>\n",
              "      <td>106.245424</td>\n",
              "    </tr>\n",
              "    <tr>\n",
              "      <th>2022-08-31</th>\n",
              "      <td>108.777423</td>\n",
              "    </tr>\n",
              "    <tr>\n",
              "      <th>2022-09-30</th>\n",
              "      <td>105.108069</td>\n",
              "    </tr>\n",
              "    <tr>\n",
              "      <th>2022-10-31</th>\n",
              "      <td>110.705845</td>\n",
              "    </tr>\n",
              "    <tr>\n",
              "      <th>2022-11-30</th>\n",
              "      <td>116.106121</td>\n",
              "    </tr>\n",
              "    <tr>\n",
              "      <th>2022-12-31</th>\n",
              "      <td>134.068810</td>\n",
              "    </tr>\n",
              "    <tr>\n",
              "      <th>2023-01-31</th>\n",
              "      <td>103.614522</td>\n",
              "    </tr>\n",
              "    <tr>\n",
              "      <th>2023-02-28</th>\n",
              "      <td>96.849697</td>\n",
              "    </tr>\n",
              "    <tr>\n",
              "      <th>2023-03-31</th>\n",
              "      <td>100.948433</td>\n",
              "    </tr>\n",
              "    <tr>\n",
              "      <th>2023-04-30</th>\n",
              "      <td>96.740391</td>\n",
              "    </tr>\n",
              "    <tr>\n",
              "      <th>2023-05-31</th>\n",
              "      <td>104.410989</td>\n",
              "    </tr>\n",
              "    <tr>\n",
              "      <th>2023-06-30</th>\n",
              "      <td>102.857889</td>\n",
              "    </tr>\n",
              "    <tr>\n",
              "      <th>2023-07-31</th>\n",
              "      <td>109.099114</td>\n",
              "    </tr>\n",
              "  </tbody>\n",
              "</table>\n",
              "</div>"
            ],
            "text/plain": [
              "            Valor Predito\n",
              "2021-08-31     105.828887\n",
              "2021-09-30     102.012510\n",
              "2021-10-31     107.750831\n",
              "2021-11-30     113.084657\n",
              "2021-12-31     131.127843\n",
              "2022-01-31     100.647765\n",
              "2022-02-28      93.932113\n",
              "2022-03-31      98.025322\n",
              "2022-04-30      93.849875\n",
              "2022-05-31     101.524803\n",
              "2022-06-30      99.995307\n",
              "2022-07-31     106.245424\n",
              "2022-08-31     108.777423\n",
              "2022-09-30     105.108069\n",
              "2022-10-31     110.705845\n",
              "2022-11-30     116.106121\n",
              "2022-12-31     134.068810\n",
              "2023-01-31     103.614522\n",
              "2023-02-28      96.849697\n",
              "2023-03-31     100.948433\n",
              "2023-04-30      96.740391\n",
              "2023-05-31     104.410989\n",
              "2023-06-30     102.857889\n",
              "2023-07-31     109.099114"
            ]
          },
          "metadata": {},
          "execution_count": 82
        }
      ]
    },
    {
      "cell_type": "code",
      "metadata": {
        "colab": {
          "base_uri": "https://localhost:8080/",
          "height": 297
        },
        "id": "KaRiEKw7HF-S",
        "outputId": "50cd5834-f1ed-4377-dfd3-6198410dd57e"
      },
      "source": [
        "#Somente do valor predito:\n",
        "futuro.describe()"
      ],
      "execution_count": 83,
      "outputs": [
        {
          "output_type": "execute_result",
          "data": {
            "text/html": [
              "<div>\n",
              "<style scoped>\n",
              "    .dataframe tbody tr th:only-of-type {\n",
              "        vertical-align: middle;\n",
              "    }\n",
              "\n",
              "    .dataframe tbody tr th {\n",
              "        vertical-align: top;\n",
              "    }\n",
              "\n",
              "    .dataframe thead th {\n",
              "        text-align: right;\n",
              "    }\n",
              "</style>\n",
              "<table border=\"1\" class=\"dataframe\">\n",
              "  <thead>\n",
              "    <tr style=\"text-align: right;\">\n",
              "      <th></th>\n",
              "      <th>Valor Predito</th>\n",
              "    </tr>\n",
              "  </thead>\n",
              "  <tbody>\n",
              "    <tr>\n",
              "      <th>count</th>\n",
              "      <td>24.000000</td>\n",
              "    </tr>\n",
              "    <tr>\n",
              "      <th>mean</th>\n",
              "      <td>105.971360</td>\n",
              "    </tr>\n",
              "    <tr>\n",
              "      <th>std</th>\n",
              "      <td>9.968531</td>\n",
              "    </tr>\n",
              "    <tr>\n",
              "      <th>min</th>\n",
              "      <td>93.849875</td>\n",
              "    </tr>\n",
              "    <tr>\n",
              "      <th>25%</th>\n",
              "      <td>100.484651</td>\n",
              "    </tr>\n",
              "    <tr>\n",
              "      <th>50%</th>\n",
              "      <td>104.012755</td>\n",
              "    </tr>\n",
              "    <tr>\n",
              "      <th>75%</th>\n",
              "      <td>108.857845</td>\n",
              "    </tr>\n",
              "    <tr>\n",
              "      <th>max</th>\n",
              "      <td>134.068810</td>\n",
              "    </tr>\n",
              "  </tbody>\n",
              "</table>\n",
              "</div>"
            ],
            "text/plain": [
              "       Valor Predito\n",
              "count      24.000000\n",
              "mean      105.971360\n",
              "std         9.968531\n",
              "min        93.849875\n",
              "25%       100.484651\n",
              "50%       104.012755\n",
              "75%       108.857845\n",
              "max       134.068810"
            ]
          },
          "metadata": {},
          "execution_count": 83
        }
      ]
    },
    {
      "cell_type": "code",
      "metadata": {
        "colab": {
          "base_uri": "https://localhost:8080/",
          "height": 268
        },
        "id": "3aBUtNvwF2-s",
        "outputId": "d6469162-3a9b-4230-b1da-a6308131d0fb"
      },
      "source": [
        "# Realizando a predição e plotando no gráfico, vê-se que o modelo\n",
        "# Segue uma aparente continuidade no padrão apresentado, com leve aumento.\n",
        "\n",
        "data_final_c = date.today()- timedelta(days=30)\n",
        "future_forecast = pd.DataFrame({'pmc_valor_predito':proximos_24}, index=pd.date_range(data_final_c, periods=24, freq='M'))\n",
        "previsao = pd.concat([analysis,future_forecast],axis=1).plot()\n"
      ],
      "execution_count": 84,
      "outputs": [
        {
          "output_type": "display_data",
          "data": {
            "image/png": "[encoded data removed]",
            "text/plain": [
              "<Figure size 432x288 with 1 Axes>"
            ]
          },
          "metadata": {}
        }
      ]
    },
    {
      "cell_type": "code",
      "metadata": {
        "colab": {
          "base_uri": "https://localhost:8080/",
          "height": 284
        },
        "id": "DPHExkQmzm-T",
        "outputId": "fce2daf3-3119-4693-a1a7-3437af01f8a4"
      },
      "source": [
        "# Histograma de todos os valores do PMC nacional.\n",
        "sns.histplot(analysis[['pmc_valor']], bins=15, color='purple')\n",
        "plt.ylabel('PMC - Nacional')\n",
        "plt.title('Histograma dos dados - PMC nacional')\n",
        "plt.xlabel(None)\n",
        "plt.xticks()\n",
        "plt.savefig('histograma.png', format='png')"
      ],
      "execution_count": 85,
      "outputs": [
        {
          "output_type": "display_data",
          "data": {
            "image/png": "[encoded data removed]",
            "text/plain": [
              "<Figure size 432x288 with 1 Axes>"
            ]
          },
          "metadata": {}
        }
      ]
    },
    {
      "cell_type": "code",
      "metadata": {
        "colab": {
          "base_uri": "https://localhost:8080/",
          "height": 301
        },
        "id": "57gsCbM-2u81",
        "outputId": "a607a1f8-8374-4c8c-8f38-d8e68da5b9f9"
      },
      "source": [
        "# Boxplot de todos os valores do PMC nacional.\n",
        "\n",
        "sns.set_theme(style=\"whitegrid\")\n",
        "plt.title('Boxplot dos dados - PMC nacional')\n",
        "ax = sns.boxplot(x=analysis[\"pmc_valor\"])\n",
        "plt.xlabel('Valores do PMC - Nacional')\n",
        "plt.savefig('boxplot.png', format='png')"
      ],
      "execution_count": 86,
      "outputs": [
        {
          "output_type": "display_data",
          "data": {
            "image/png": "[encoded data removed]",
            "text/plain": [
              "<Figure size 432x288 with 1 Axes>"
            ]
          },
          "metadata": {}
        }
      ]
    },
    {
      "cell_type": "markdown",
      "metadata": {
        "id": "LIKGjYpu7veP"
      },
      "source": [
        "# Referências bibliográficas"
      ]
    },
    {
      "cell_type": "markdown",
      "metadata": {
        "id": "fdvizyiJ7yBN"
      },
      "source": [
        "Morettin, Pedro A. Análise de Séries Temporais. Disponível em: Minha Biblioteca, Editora Blucher, 2018.\n",
        "\n",
        "\n",
        "Bueno, Rodrigo De Losso da S. Econometria de Séries Temporais - 2ª edição revista e atualizada. Disponível em: Minha Biblioteca, (2nd edição). Cengage Learning Editores SA de CV, 2018.\n",
        "\n"
      ]
    }
  ]
}